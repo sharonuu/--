{
 "cells": [
  {
   "cell_type": "markdown",
   "metadata": {},
   "source": [
    "# 1.简介\n",
    "图像彩色空间互转在图像处理中应用非常广泛，而且很多算法只对灰度图有效；另外，相比RGB，其他颜色空间(比如HSV、HSI)更具可分离性和可操作性，所以很多图像算法需要将图像**从RGB转为其他颜色空间**，所以图像彩色互转是十分重要和关键的。"
   ]
  },
  {
   "cell_type": "markdown",
   "metadata": {},
   "source": [
    "# 2.学习目标\n",
    "- 了解相关颜色空间的基础知识\n",
    "- 理解彩色空间互转的理论\n",
    "- 掌握OpenCV框架下的颜色空间互转API的使用"
   ]
  },
  {
   "cell_type": "markdown",
   "metadata": {},
   "source": [
    "# 3.内容介绍\n",
    "- 相关颜色空间的原理介绍\n",
    "- 颜色空间互转理论的介绍\n",
    "- OpenCV代码实践"
   ]
  },
  {
   "cell_type": "markdown",
   "metadata": {},
   "source": [
    "# 4.算法理论介绍\n",
    "## 4.1颜色空间\n",
    "颜色空间常见的包括：RGB、RGBA、CMYK、YUV、HSL和HSV/HSB\n",
    "### RGB\n",
    "RGB（红绿蓝）是依据人眼识别的颜色定义出的空间，可表示大部分颜色。但在科学研究一般不采用RGB颜色空间，因为它的细节难以进行数字化的调整。它将色调，亮度，饱和度三个量放在一起表示，很难分开。它是最通用的面向硬件的彩色模型。该模型用于彩色监视器和一大类彩色视频摄像。\n",
    "\n",
    "RGB颜色对照表：https://tool.oschina.net/commons?type=3\n",
    "### CMY/CMYK\n",
    "CMY是工业印刷采用的颜色空间。它与RGB对应。简单的类比RGB来源于是物体发光，而CMY是依据反射光得到的。具体应用如打印机：一般采用四色墨盒，即CMY加黑色墨盒\n",
    "### HSV/HSB\n",
    "HSV颜色空间是为了更好的数字化处理颜色而提出来的。有许多种HSX颜色空间，其中的X可能是V,也可能是I，依据具体使用而X含义不同。H是色调，S是饱和度，I是强度。HSB（Hue, Saturation, Brightness）颜色模型，这个颜色模型和HSL颜色模型同样都是用户台式机图形程序的颜色表示， 用六角形锥体表示自己的颜色模型。\n",
    "### HSI/HSL\n",
    "HSI颜色空间是为了更好的数字化处理颜色而提出来的。有许多种HSX颜色空间，其中的X可能是V,也可能是I，依据具体使用而X含义不同。H是色调，S是饱和度，I是强度。HSL（Hue, Saturation, Lightness）颜色模型，这个颜色模型都是用户台式机图形程序的颜色表示， 用六角形锥体表示自己的颜色模型。\n",
    "### Lab\n",
    "Lab颜色模型是由CIE（国际照明委员会）制定的一种色彩模式。自然界中任何一点色都可以在Lab空间中表达出来，它的色彩空间比RGB空间还要大。另外，这种模式是以数字化方式来描述人的视觉感应， 与设备无关，所以它弥补了RGB和CMYK模式必须依赖于设备色彩特性的不足。由于Lab的色彩空间要比RGB模式和CMYK模式的色彩空间大。这就意味着RGB以及CMYK所能描述的色彩信息在Lab空间中都能 得以影射。\n",
    "### YUV/YCbCr\n",
    "YUV是通过亮度-色差来描述颜色的颜色空间。亮度信号经常被称作Y，色度信号是由两个互相独立的信号组成。视颜色系统和格式不同，两种色度信号经常被称作UV或PbPr或CbCr。这些都是由不同的编码格式所产生的，但是实际上，他们的概念基本相同。在DVD中，色度信号被存储成Cb和Cr（C代表颜色，b代表蓝色，r代表红色）。"
   ]
  },
  {
   "cell_type": "markdown",
   "metadata": {},
   "source": [
    "## 4.2RGB与灰度图互转\n",
    "RGB（红绿蓝）是依据人眼识别的颜色定义出的空间，可表示大部分颜色。但在科学研究一般不采用RGB颜色空间，因为它的细节难以进行数字化的调整。它将色调，亮度，饱和度三个量放在一起表示，很难分开。它是最通用的面向硬件的彩色模型。该模型用于彩色监视器和一大类彩色视频摄像。\n",
    "\n",
    "RGB颜色空间 基于颜色的加法混色原理，从黑色不断叠加Red，Green，Blue的颜色，最终可以得到白色，如图：\n",
    "\n",
    "![avatar](RGB.png)\n",
    "将R、G、B三个通道作为笛卡尔坐标系中的X、Y、Z轴，就得到了一种对于颜色的空间描述\n",
    "对于彩色图转灰度图，有一个很著名的心理学公式：\n",
    "$$Gray = R\\times 0.299 + G\\times 0.587 + B\\times 0.114$$"
   ]
  },
  {
   "cell_type": "markdown",
   "metadata": {},
   "source": [
    "## 4.3RGB与HSV互转\n",
    "HSV是一种将RGB色彩空间中的点在倒圆锥体中的表示方法。HSV即色相(Hue)、饱和度(Saturation)、明度(Value)，又称HSB(B即Brightness)。色相是色彩的基本属性，就是平常说的颜色的名称，如红色、黄色等。饱和度（S）是指色彩的纯度，越高色彩越纯，低则逐渐变灰，取0-100%的数值。明度（V），取0-max(计算机中HSV取值范围和存储的长度有关)。HSV颜色空间可以用一个圆锥空间模型来描述。圆锥的顶点处，V=0，H和S无定义，代表黑色。圆锥的顶面中心处V=max，S=0，H无定义，代表白色。\n",
    "\n",
    "RGB颜色空间中，三种颜色分量的取值与所生成的颜色之间的联系并不直观。而HSV颜色空间，更类似于人类感觉颜色的方式，封装了关于颜色的信息：“这是什么颜色？深浅如何？明暗如何？\n",
    "### HSV模型\n",
    "![avatar](HSV.png)\n",
    "这个模型就是按色彩、深浅、明暗来描述的。\n",
    "H是色彩；\n",
    "S是深浅， S = 0时，只有灰度；\n",
    "V是明暗，表示色彩的明亮程度，但与光强无直接联系。\n",
    "![avatar](HSV坐标.jpg)\n",
    "应用：可以用于偏光矫正、去除阴影、图像分割等\n",
    "### RGB与HSV转换\n",
    "#### RGB2HSV\n",
    "![avatar](RGB2HSV-1.jpg)\n",
    "或\n",
    "![avatar](RGB2HSV-2.png)\n",
    "#### 代码"
   ]
  },
  {
   "cell_type": "code",
   "execution_count": 5,
   "metadata": {},
   "outputs": [],
   "source": [
    "import math\n",
    "def rgb2hsv(r, g, b):\n",
    "    r, g, b = r/255.0, g/255.0, b/255.0\n",
    "    mx = max(r, g, b)\n",
    "    mn = min(r, g, b)\n",
    "    df = mx-mn\n",
    "    if mx == mn:\n",
    "        h = 0\n",
    "    elif mx == r:\n",
    "        h = (60 * ((g-b)/df) + 360) % 360\n",
    "    elif mx == g:\n",
    "        h = (60 * ((b-r)/df) + 120) % 360\n",
    "    elif mx == b:\n",
    "        h = (60 * ((r-g)/df) + 240) % 360\n",
    "    if mx == 0:\n",
    "        s = 0\n",
    "    else:\n",
    "        s = df/mx\n",
    "    v = mx\n",
    "    return h, s, v"
   ]
  },
  {
   "cell_type": "markdown",
   "metadata": {},
   "source": [
    "#### HSV2RGB\n",
    "![avatar](HSV2RGB.png)\n",
    "#### 代码"
   ]
  },
  {
   "cell_type": "code",
   "execution_count": 4,
   "metadata": {},
   "outputs": [],
   "source": [
    "import math\n",
    "def hsv2rgb(h, s, v):\n",
    "    h = float(h)\n",
    "    s = float(s)\n",
    "    v = float(v)\n",
    "    h60 = h / 60.0\n",
    "    h60f = math.floor(h60)\n",
    "    hi = int(h60f) % 6\n",
    "    f = h60 - h60f\n",
    "    p = v * (1 - s)\n",
    "    q = v * (1 - f * s)\n",
    "    t = v * (1 - (1 - f) * s)\n",
    "    r, g, b = 0, 0, 0\n",
    "    if hi == 0: r, g, b = v, t, p\n",
    "    elif hi == 1: r, g, b = q, v, p\n",
    "    elif hi == 2: r, g, b = p, v, t\n",
    "    elif hi == 3: r, g, b = p, q, v\n",
    "    elif hi == 4: r, g, b = t, p, v\n",
    "    elif hi == 5: r, g, b = v, p, q\n",
    "    r, g, b = int(r * 255), int(g * 255), int(b * 255)\n",
    "    return r, g, b"
   ]
  },
  {
   "cell_type": "markdown",
   "metadata": {},
   "source": [
    "根据RGB和HSV的转换公式可以构建出以下数值计算的代码，使用控制语句实现分段函数，使用python内置函数实现数学运算。 然而，以下代码只对一个像素点进行转换，对于一张$1000*1000$的图片，需要循环调用100万次。显然，这是一种容易理解的算法，但性能并不好。"
   ]
  },
  {
   "cell_type": "markdown",
   "metadata": {},
   "source": [
    "# 5.基于OpenCV的实现\n",
    "- Python3.7\n",
    "- 包cv2、numpy\n",
    "- 涉及函数cv2.cvtColor(),cv2.inRange()\n",
    "\n",
    "我们用到的函数是cv2.cvtColor(input_imageﬂag)，其中ﬂag就是转换类型。\n",
    "对于BGR↔Gray的转换，我们使用的ﬂag就是cv2.COLOR_BGR2GRAY。\n",
    "同样对于BGR↔HSV的转换我们用的ﬂag就是cv2.COLOR_BGR2HSV。\n",
    "\n",
    "在 OpenCV 的 HSV 格式中，H（色彩/色度）的取值范围是 [0，179]， S（饱和度）的取值范围 [0，255]，V（亮度）的取值范围 [0，255]。但是不同的软件使用的值可能不同。所以当你拿 OpenCV 的 HSV 值与其他软件的 HSV 值对比时，一定要记得归一化。"
   ]
  },
  {
   "cell_type": "markdown",
   "metadata": {},
   "source": [
    "# 参考博客\n",
    "- https://zhuanlan.zhihu.com/p/28741691\n",
    "- https://www.kancloud.cn/aollo/aolloopencv/263731\n",
    "- https://www.cnblogs.com/huangshiyu13/p/7521105.html"
   ]
  }
 ],
 "metadata": {
  "kernelspec": {
   "display_name": "Python 3",
   "language": "python",
   "name": "python3"
  },
  "language_info": {
   "codemirror_mode": {
    "name": "ipython",
    "version": 3
   },
   "file_extension": ".py",
   "mimetype": "text/x-python",
   "name": "python",
   "nbconvert_exporter": "python",
   "pygments_lexer": "ipython3",
   "version": "3.7.3"
  }
 },
 "nbformat": 4,
 "nbformat_minor": 2
}
